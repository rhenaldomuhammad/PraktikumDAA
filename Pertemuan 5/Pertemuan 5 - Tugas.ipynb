{
 "cells": [
  {
   "cell_type": "markdown",
   "metadata": {},
   "source": [
    "## Pertemuan 5 - Tugas\n",
    "## DAA"
   ]
  },
  {
   "cell_type": "markdown",
   "metadata": {},
   "source": [
    "## 1. Merge Sort (21, 5, 9, 30, 7)"
   ]
  },
  {
   "cell_type": "code",
   "execution_count": 14,
   "metadata": {},
   "outputs": [],
   "source": [
    "def mergeSort(myList):\n",
    "    if len(myList) > 1:\n",
    "        #divide\n",
    "        mid = len(myList) // 2\n",
    "        left = myList[:mid]\n",
    "        right = myList[mid:]\n",
    "        \n",
    "        mergeSort(left)\n",
    "        mergeSort(right)\n",
    "        \n",
    "        i = 0\n",
    "        j = 0\n",
    "        \n",
    "        k = 0\n",
    "        \n",
    "        while i < len(left) and j < len(right):\n",
    "            \n",
    "            if left[i] < right[j]: #ini pengurutan nilai dari yang terkecil\n",
    "                myList[k] = left[i]\n",
    "                i += 1\n",
    "            else:\n",
    "                myList[k] = right[j]\n",
    "                j += 1\n",
    "            k += 1\n",
    "                \n",
    "        while i < len(left):\n",
    "            myList[k] = left[i]\n",
    "            i += 1\n",
    "            k += 1\n",
    "            \n",
    "        while j < len(right):\n",
    "            myList[k] = right[j]\n",
    "            j += 1\n",
    "            k += 1"
   ]
  },
  {
   "cell_type": "code",
   "execution_count": 15,
   "metadata": {},
   "outputs": [
    {
     "name": "stdout",
     "output_type": "stream",
     "text": [
      "List sebelum di sortir :  [21, 5, 9, 16, 30, 7]\n"
     ]
    }
   ],
   "source": [
    "#print dulu yang sebelum disortir untuk memastikan\n",
    "myList = [21,5,9,16,30,7]\n",
    "print(\"List sebelum di sortir : \", myList)"
   ]
  },
  {
   "cell_type": "code",
   "execution_count": 17,
   "metadata": {},
   "outputs": [
    {
     "name": "stdout",
     "output_type": "stream",
     "text": [
      "List  sesudah di sortir :  [5, 7, 9, 16, 21, 30]\n"
     ]
    }
   ],
   "source": [
    "#print kan yang sudah disortir dengan menggunakan merge sort\n",
    "mergeSort(myList)\n",
    "print(\"List  sesudah di sortir : \", myList)"
   ]
  },
  {
   "cell_type": "markdown",
   "metadata": {},
   "source": [
    "## 2. Quick Sort (17, 12, 57, 8, 16, 25)"
   ]
  },
  {
   "cell_type": "code",
   "execution_count": 18,
   "metadata": {},
   "outputs": [],
   "source": [
    "#definikan dengan divide\n",
    "def partition(arr, left, right):\n",
    "    i = (left-1) \n",
    "    pivot = arr[right]\n",
    "    \n",
    "    for j in range(left, right):\n",
    "        if arr[j] <= pivot:\n",
    "            \n",
    "            #menaikkan index dan menukar posisi\n",
    "            i += 1\n",
    "            arr[i], arr[j] = arr[j], arr[i]\n",
    "    \n",
    "    arr[i+1], arr[right] = arr[j], arr[i]\n",
    "    return (i+1)\n",
    "\n",
    "# menggunakan quick sort\n",
    "def quickSort(arr, left, right):\n",
    "    if len(arr) == 1:\n",
    "        return arr\n",
    "    if left < right:\n",
    "        \n",
    "        pi = partition(arr, left, right)\n",
    "        \n",
    "        quickSort(arr, left, pi-1)\n",
    "        quickSort(arr, pi+1, right)"
   ]
  },
  {
   "cell_type": "code",
   "execution_count": 19,
   "metadata": {},
   "outputs": [
    {
     "name": "stdout",
     "output_type": "stream",
     "text": [
      "Sebelum di sortir :  [17, 12, 57, 8, 16, 25]\n"
     ]
    }
   ],
   "source": [
    "#print sebelum di sort\n",
    "arr = [17,12,57,8,16,25]\n",
    "print(\"Sebelum di sortir : \", arr)"
   ]
  },
  {
   "cell_type": "code",
   "execution_count": 20,
   "metadata": {},
   "outputs": [
    {
     "name": "stdout",
     "output_type": "stream",
     "text": [
      "Sesudah di sortir :  [12, 16, 17, 8, 57, 16]\n"
     ]
    }
   ],
   "source": [
    "#print sesudah di sortir menggunakan quick sort\n",
    "quickSort(arr, 0, len(arr)-1)\n",
    "print(\"Sesudah di sortir : \", arr)"
   ]
  }
 ],
 "metadata": {
  "kernelspec": {
   "display_name": "Python 3",
   "language": "python",
   "name": "python3"
  },
  "language_info": {
   "codemirror_mode": {
    "name": "ipython",
    "version": 3
   },
   "file_extension": ".py",
   "mimetype": "text/x-python",
   "name": "python",
   "nbconvert_exporter": "python",
   "pygments_lexer": "ipython3",
   "version": "3.8.3"
  }
 },
 "nbformat": 4,
 "nbformat_minor": 4
}
